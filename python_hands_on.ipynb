{
  "nbformat": 4,
  "nbformat_minor": 0,
  "metadata": {
    "colab": {
      "name": "python hands-on.ipynb",
      "provenance": [],
      "authorship_tag": "ABX9TyN/8FopEElX1gJeI9hPa2Q+",
      "include_colab_link": true
    },
    "kernelspec": {
      "name": "python3",
      "display_name": "Python 3"
    }
  },
  "cells": [
    {
      "cell_type": "markdown",
      "metadata": {
        "id": "view-in-github",
        "colab_type": "text"
      },
      "source": [
        "<a href=\"https://colab.research.google.com/github/ramyeturi/Covid-19-Data-Visualization/blob/master/python_hands_on.ipynb\" target=\"_parent\"><img src=\"https://colab.research.google.com/assets/colab-badge.svg\" alt=\"Open In Colab\"/></a>"
      ]
    },
    {
      "cell_type": "code",
      "metadata": {
        "colab": {
          "base_uri": "https://localhost:8080/"
        },
        "id": "FTY6C6kzSIQ0",
        "outputId": "f84ee4a4-f455-4818-f64b-32445c6101ec"
      },
      "source": [
        "miles=26.2\n",
        "kilometers=miles * 1.61\n",
        "print(kilometers)"
      ],
      "execution_count": null,
      "outputs": [
        {
          "output_type": "stream",
          "text": [
            "42.182\n"
          ],
          "name": "stdout"
        }
      ]
    },
    {
      "cell_type": "code",
      "metadata": {
        "colab": {
          "base_uri": "https://localhost:8080/"
        },
        "id": "zT5-T-rjTFc5",
        "outputId": "c316a4ce-671a-467e-81b4-457fa42a871f"
      },
      "source": [
        "import math\n",
        "print(math.pi)\n",
        "r=5\n",
        "vol=(4/3)*math.pi*(r**3)\n",
        "print(vol)"
      ],
      "execution_count": null,
      "outputs": [
        {
          "output_type": "stream",
          "text": [
            "3.141592653589793\n",
            "523.5987755982989\n"
          ],
          "name": "stdout"
        }
      ]
    },
    {
      "cell_type": "code",
      "metadata": {
        "colab": {
          "base_uri": "https://localhost:8080/"
        },
        "id": "Q3KHhYX7WO9R",
        "outputId": "21451cf8-653e-4f83-c8a3-0c873dc3fa6f"
      },
      "source": [
        "import math\n",
        "r=int(input(\"Radius=\"))\n",
        "vol=vol=(4/3)*math.pi*(r**3)\n",
        "print(vol)"
      ],
      "execution_count": null,
      "outputs": [
        {
          "output_type": "stream",
          "text": [
            "Radius=15\n",
            "14137.166941154068\n"
          ],
          "name": "stdout"
        }
      ]
    },
    {
      "cell_type": "code",
      "metadata": {
        "colab": {
          "base_uri": "https://localhost:8080/"
        },
        "id": "fvn6DDxLWyBH",
        "outputId": "15443bd7-f508-4c57-c3c6-f5492394b7d0"
      },
      "source": [
        "var=int(input(\"value\"))\n",
        "type(var)"
      ],
      "execution_count": null,
      "outputs": [
        {
          "output_type": "stream",
          "text": [
            "value5\n"
          ],
          "name": "stdout"
        },
        {
          "output_type": "execute_result",
          "data": {
            "text/plain": [
              "int"
            ]
          },
          "metadata": {
            "tags": []
          },
          "execution_count": 10
        }
      ]
    },
    {
      "cell_type": "code",
      "metadata": {
        "colab": {
          "base_uri": "https://localhost:8080/"
        },
        "id": "utydPy7BXNJf",
        "outputId": "bff95c5d-9e99-4d37-c4ab-00909dadd3fe"
      },
      "source": [
        "cp=float(input(\"cost prize=\"))\n",
        "dis=int(input(\"discount=\"))\n",
        "s=int(input(\"shipping cost=\"))\n",
        "add=int(input(\"cost of additional copy=\"))\n",
        "n=int(input(\"no of copies=\"))\n",
        "res=(cp-(cp*dis/100))\n",
        "total=res*3+res*(n-1)*add\n",
        "print(total)"
      ],
      "execution_count": null,
      "outputs": [
        {
          "output_type": "stream",
          "text": [
            "cost prize=24.95\n",
            "discount=40\n",
            "shipping cost=3\n",
            "cost of additional copy=75\n",
            "no of copies=60\n",
            "66287.16\n"
          ],
          "name": "stdout"
        }
      ]
    },
    {
      "cell_type": "code",
      "metadata": {
        "colab": {
          "base_uri": "https://localhost:8080/"
        },
        "id": "Tlx4FzGua0b5",
        "outputId": "ff99bc07-19ad-481f-aaa8-2b5c0d5af868"
      },
      "source": [
        "import math\n",
        "r=int(input(\"radius=\"))\n",
        "prop=input(\"Type of figure=\")\n",
        "if prop=='circle':\n",
        "  res=(math.pi*r**2)\n",
        "elif prop=='sphere':\n",
        "  res=(4/3)*math.pi*(r**3)\n",
        "print(res)"
      ],
      "execution_count": null,
      "outputs": [
        {
          "output_type": "stream",
          "text": [
            "radius=5\n",
            "Type of figure=sphere\n",
            "523.5987755982989\n"
          ],
          "name": "stdout"
        }
      ]
    },
    {
      "cell_type": "code",
      "metadata": {
        "colab": {
          "base_uri": "https://localhost:8080/"
        },
        "id": "y7aqfsrcZLdh",
        "outputId": "49e70a97-94e6-4c8e-a306-de94edddb670"
      },
      "source": [
        "try:\n",
        "  num1=int(input(\"first number \"))\n",
        "  num2=int(input(\"second number \"))\n",
        "  div=num1/num2\n",
        "  print(div)\n",
        "except:\n",
        "  print(\"Division by zero is not possible\")\n"
      ],
      "execution_count": null,
      "outputs": [
        {
          "output_type": "stream",
          "text": [
            "first number 5\n",
            "second number 0\n",
            "Division by zero is not possible\n"
          ],
          "name": "stdout"
        }
      ]
    },
    {
      "cell_type": "code",
      "metadata": {
        "colab": {
          "base_uri": "https://localhost:8080/"
        },
        "id": "zGJCZFnFdsrA",
        "outputId": "43ef07eb-2da8-417b-a079-f98771b996ab"
      },
      "source": [
        "try:\n",
        "  int(input(\"Enter Hours \"))\n",
        "  int(input(\"Enter Rate \"))\n",
        "except:\n",
        "  print(\"Error, please enter numeric input\")"
      ],
      "execution_count": null,
      "outputs": [
        {
          "output_type": "stream",
          "text": [
            "Enter Hours 5\n",
            "Enter Rate nine\n",
            "Error, please enter numeric input\n"
          ],
          "name": "stdout"
        }
      ]
    },
    {
      "cell_type": "code",
      "metadata": {
        "colab": {
          "base_uri": "https://localhost:8080/"
        },
        "id": "oft7CZzXfL9K",
        "outputId": "e1bbce5d-320b-4a2d-c579-e2c023c23820"
      },
      "source": [
        "try:\n",
        "  s=float(input(\"Enter Score \"))\n",
        "  if s>=0.0 and s<=1.0:\n",
        "    if s>=0.9:\n",
        "      print(\"A\")\n",
        "    elif s>=0.8:\n",
        "      print(\"B\")\n",
        "    elif s>=0.7:\n",
        "      print(\"C\")\n",
        "    elif s>=0.6:\n",
        "      print(\"D\")\n",
        "    else:\n",
        "      print(\"F\")\n",
        "  else:\n",
        "      print(\"Bad Score\")\n",
        "except:\n",
        "  print(\"not a number\")"
      ],
      "execution_count": null,
      "outputs": [
        {
          "output_type": "stream",
          "text": [
            "Enter Score nine\n",
            "not a number\n"
          ],
          "name": "stdout"
        }
      ]
    }
  ]
}